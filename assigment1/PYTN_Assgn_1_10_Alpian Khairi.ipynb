{
 "cells": [
  {
   "cell_type": "markdown",
   "id": "7025b1e7",
   "metadata": {},
   "source": [
    "# London Crime Rate Analysis"
   ]
  },
  {
   "cell_type": "markdown",
   "id": "3f4b2199",
   "metadata": {},
   "source": [
    "## Introduction"
   ]
  },
  {
   "cell_type": "markdown",
   "id": "bffaf611",
   "metadata": {},
   "source": [
    "Pada kesempatan kali ini, saya akan melakukan analisis data pada dataset London Crime Data, 2008-2016. Data ini saya peroleh pada kaggle pada link ini [London Crime Data](https://www.kaggle.com/datasets/jboysen/london-crime).\n",
    "\n",
    "Untuk detail masing-masing kolom pada data ini sebagai berikut :\n",
    "- lsoa_code: code for Lower Super Output Area in Greater London.\n",
    "- borough: Common name for London borough.\n",
    "- major_category: High level categorization of crime\n",
    "- minor_category: Low level categorization of crime within major category.\n",
    "- value: monthly reported count of categorical crime in given borough\n",
    "- year: Year of reported counts, 2008-2016\n",
    "- month: Month of reported counts, 1-12\n"
   ]
  },
  {
   "cell_type": "markdown",
   "id": "9c890d8c",
   "metadata": {},
   "source": [
    "## Data Preparation"
   ]
  },
  {
   "cell_type": "markdown",
   "id": "3ba6c97f",
   "metadata": {},
   "source": [
    "### Load the required package"
   ]
  },
  {
   "cell_type": "code",
   "execution_count": 2,
   "id": "7795113a",
   "metadata": {
    "scrolled": true
   },
   "outputs": [],
   "source": [
    "import pandas as pd\n",
    "import numpy as np\n",
    "import matplotlib as mpl\n",
    "import matplotlib.pyplot as plt\n",
    "import seaborn as sns\n",
    "from scipy import stats\n",
    "import folium"
   ]
  },
  {
   "cell_type": "markdown",
   "id": "7793f64a",
   "metadata": {},
   "source": [
    "### Load the dataset"
   ]
  },
  {
   "cell_type": "code",
   "execution_count": 3,
   "id": "ee83920e",
   "metadata": {
    "scrolled": true
   },
   "outputs": [
    {
     "data": {
      "text/html": [
       "<div>\n",
       "<style scoped>\n",
       "    .dataframe tbody tr th:only-of-type {\n",
       "        vertical-align: middle;\n",
       "    }\n",
       "\n",
       "    .dataframe tbody tr th {\n",
       "        vertical-align: top;\n",
       "    }\n",
       "\n",
       "    .dataframe thead th {\n",
       "        text-align: right;\n",
       "    }\n",
       "</style>\n",
       "<table border=\"1\" class=\"dataframe\">\n",
       "  <thead>\n",
       "    <tr style=\"text-align: right;\">\n",
       "      <th></th>\n",
       "      <th>lsoa_code</th>\n",
       "      <th>borough</th>\n",
       "      <th>major_category</th>\n",
       "      <th>minor_category</th>\n",
       "      <th>value</th>\n",
       "      <th>year</th>\n",
       "      <th>month</th>\n",
       "    </tr>\n",
       "  </thead>\n",
       "  <tbody>\n",
       "    <tr>\n",
       "      <th>0</th>\n",
       "      <td>E01001116</td>\n",
       "      <td>Croydon</td>\n",
       "      <td>Burglary</td>\n",
       "      <td>Burglary in Other Buildings</td>\n",
       "      <td>0</td>\n",
       "      <td>2016</td>\n",
       "      <td>11</td>\n",
       "    </tr>\n",
       "    <tr>\n",
       "      <th>1</th>\n",
       "      <td>E01001646</td>\n",
       "      <td>Greenwich</td>\n",
       "      <td>Violence Against the Person</td>\n",
       "      <td>Other violence</td>\n",
       "      <td>0</td>\n",
       "      <td>2016</td>\n",
       "      <td>11</td>\n",
       "    </tr>\n",
       "    <tr>\n",
       "      <th>2</th>\n",
       "      <td>E01000677</td>\n",
       "      <td>Bromley</td>\n",
       "      <td>Violence Against the Person</td>\n",
       "      <td>Other violence</td>\n",
       "      <td>0</td>\n",
       "      <td>2015</td>\n",
       "      <td>5</td>\n",
       "    </tr>\n",
       "    <tr>\n",
       "      <th>3</th>\n",
       "      <td>E01003774</td>\n",
       "      <td>Redbridge</td>\n",
       "      <td>Burglary</td>\n",
       "      <td>Burglary in Other Buildings</td>\n",
       "      <td>0</td>\n",
       "      <td>2016</td>\n",
       "      <td>3</td>\n",
       "    </tr>\n",
       "    <tr>\n",
       "      <th>4</th>\n",
       "      <td>E01004563</td>\n",
       "      <td>Wandsworth</td>\n",
       "      <td>Robbery</td>\n",
       "      <td>Personal Property</td>\n",
       "      <td>0</td>\n",
       "      <td>2008</td>\n",
       "      <td>6</td>\n",
       "    </tr>\n",
       "  </tbody>\n",
       "</table>\n",
       "</div>"
      ],
      "text/plain": [
       "   lsoa_code     borough               major_category  \\\n",
       "0  E01001116     Croydon                     Burglary   \n",
       "1  E01001646   Greenwich  Violence Against the Person   \n",
       "2  E01000677     Bromley  Violence Against the Person   \n",
       "3  E01003774   Redbridge                     Burglary   \n",
       "4  E01004563  Wandsworth                      Robbery   \n",
       "\n",
       "                minor_category  value  year  month  \n",
       "0  Burglary in Other Buildings      0  2016     11  \n",
       "1               Other violence      0  2016     11  \n",
       "2               Other violence      0  2015      5  \n",
       "3  Burglary in Other Buildings      0  2016      3  \n",
       "4            Personal Property      0  2008      6  "
      ]
     },
     "execution_count": 3,
     "metadata": {},
     "output_type": "execute_result"
    }
   ],
   "source": [
    "crime = pd.read_csv('london_crime_by_lsoa.csv')\n",
    "crime.head()"
   ]
  },
  {
   "cell_type": "code",
   "execution_count": 4,
   "id": "803d5bb5",
   "metadata": {
    "scrolled": true
   },
   "outputs": [
    {
     "data": {
      "text/html": [
       "<div>\n",
       "<style scoped>\n",
       "    .dataframe tbody tr th:only-of-type {\n",
       "        vertical-align: middle;\n",
       "    }\n",
       "\n",
       "    .dataframe tbody tr th {\n",
       "        vertical-align: top;\n",
       "    }\n",
       "\n",
       "    .dataframe thead th {\n",
       "        text-align: right;\n",
       "    }\n",
       "</style>\n",
       "<table border=\"1\" class=\"dataframe\">\n",
       "  <thead>\n",
       "    <tr style=\"text-align: right;\">\n",
       "      <th></th>\n",
       "      <th>lsoa_code</th>\n",
       "      <th>borough</th>\n",
       "      <th>major_category</th>\n",
       "      <th>minor_category</th>\n",
       "      <th>value</th>\n",
       "      <th>year</th>\n",
       "      <th>month</th>\n",
       "    </tr>\n",
       "  </thead>\n",
       "  <tbody>\n",
       "    <tr>\n",
       "      <th>13490599</th>\n",
       "      <td>E01000504</td>\n",
       "      <td>Brent</td>\n",
       "      <td>Criminal Damage</td>\n",
       "      <td>Criminal Damage To Dwelling</td>\n",
       "      <td>0</td>\n",
       "      <td>2015</td>\n",
       "      <td>2</td>\n",
       "    </tr>\n",
       "    <tr>\n",
       "      <th>13490600</th>\n",
       "      <td>E01002504</td>\n",
       "      <td>Hillingdon</td>\n",
       "      <td>Robbery</td>\n",
       "      <td>Personal Property</td>\n",
       "      <td>1</td>\n",
       "      <td>2015</td>\n",
       "      <td>6</td>\n",
       "    </tr>\n",
       "    <tr>\n",
       "      <th>13490601</th>\n",
       "      <td>E01004165</td>\n",
       "      <td>Sutton</td>\n",
       "      <td>Burglary</td>\n",
       "      <td>Burglary in a Dwelling</td>\n",
       "      <td>0</td>\n",
       "      <td>2011</td>\n",
       "      <td>2</td>\n",
       "    </tr>\n",
       "    <tr>\n",
       "      <th>13490602</th>\n",
       "      <td>E01001134</td>\n",
       "      <td>Croydon</td>\n",
       "      <td>Robbery</td>\n",
       "      <td>Business Property</td>\n",
       "      <td>0</td>\n",
       "      <td>2011</td>\n",
       "      <td>5</td>\n",
       "    </tr>\n",
       "    <tr>\n",
       "      <th>13490603</th>\n",
       "      <td>E01003413</td>\n",
       "      <td>Merton</td>\n",
       "      <td>Violence Against the Person</td>\n",
       "      <td>Wounding/GBH</td>\n",
       "      <td>0</td>\n",
       "      <td>2015</td>\n",
       "      <td>6</td>\n",
       "    </tr>\n",
       "  </tbody>\n",
       "</table>\n",
       "</div>"
      ],
      "text/plain": [
       "          lsoa_code     borough               major_category  \\\n",
       "13490599  E01000504       Brent              Criminal Damage   \n",
       "13490600  E01002504  Hillingdon                      Robbery   \n",
       "13490601  E01004165      Sutton                     Burglary   \n",
       "13490602  E01001134     Croydon                      Robbery   \n",
       "13490603  E01003413      Merton  Violence Against the Person   \n",
       "\n",
       "                       minor_category  value  year  month  \n",
       "13490599  Criminal Damage To Dwelling      0  2015      2  \n",
       "13490600            Personal Property      1  2015      6  \n",
       "13490601       Burglary in a Dwelling      0  2011      2  \n",
       "13490602            Business Property      0  2011      5  \n",
       "13490603                 Wounding/GBH      0  2015      6  "
      ]
     },
     "execution_count": 4,
     "metadata": {},
     "output_type": "execute_result"
    }
   ],
   "source": [
    "crime.tail()"
   ]
  },
  {
   "cell_type": "markdown",
   "id": "e2cab2c3",
   "metadata": {},
   "source": [
    "Ternyata dataset tidak memiliki missing values, maka tahapan analisis dapat dilanjutkan"
   ]
  },
  {
   "cell_type": "markdown",
   "id": "9198c2fe",
   "metadata": {},
   "source": [
    "### Data wrangling"
   ]
  },
  {
   "cell_type": "markdown",
   "id": "d63fdb66",
   "metadata": {},
   "source": [
    "Sebelum melakukan analisis lebih lanjut, kita akan melihat struktur data terlebih dahulu untuk memahami data lebih baik"
   ]
  },
  {
   "cell_type": "code",
   "execution_count": 5,
   "id": "1eada3b8",
   "metadata": {
    "scrolled": true
   },
   "outputs": [
    {
     "name": "stdout",
     "output_type": "stream",
     "text": [
      "<class 'pandas.core.frame.DataFrame'>\n",
      "RangeIndex: 13490604 entries, 0 to 13490603\n",
      "Data columns (total 7 columns):\n",
      " #   Column          Dtype \n",
      "---  ------          ----- \n",
      " 0   lsoa_code       object\n",
      " 1   borough         object\n",
      " 2   major_category  object\n",
      " 3   minor_category  object\n",
      " 4   value           int64 \n",
      " 5   year            int64 \n",
      " 6   month           int64 \n",
      "dtypes: int64(3), object(4)\n",
      "memory usage: 720.5+ MB\n"
     ]
    }
   ],
   "source": [
    "crime.info()"
   ]
  },
  {
   "cell_type": "markdown",
   "id": "715947ec",
   "metadata": {},
   "source": [
    "Dari struktur data diatas, kita dapat melihat bahwa ada kolom yang harus kita ubah terlebih dahulu yakni major_category, minor_category ubah kedalam bentuk category.  "
   ]
  },
  {
   "cell_type": "code",
   "execution_count": 6,
   "id": "7d3c87b9",
   "metadata": {},
   "outputs": [],
   "source": [
    "crime[['major_category', 'minor_category']] = crime[['major_category', 'minor_category']].astype('category')"
   ]
  },
  {
   "cell_type": "code",
   "execution_count": 7,
   "id": "0573f44b",
   "metadata": {
    "scrolled": true
   },
   "outputs": [
    {
     "name": "stdout",
     "output_type": "stream",
     "text": [
      "<class 'pandas.core.frame.DataFrame'>\n",
      "RangeIndex: 13490604 entries, 0 to 13490603\n",
      "Data columns (total 7 columns):\n",
      " #   Column          Dtype   \n",
      "---  ------          -----   \n",
      " 0   lsoa_code       object  \n",
      " 1   borough         object  \n",
      " 2   major_category  category\n",
      " 3   minor_category  category\n",
      " 4   value           int64   \n",
      " 5   year            int64   \n",
      " 6   month           int64   \n",
      "dtypes: category(2), int64(3), object(2)\n",
      "memory usage: 540.4+ MB\n"
     ]
    }
   ],
   "source": [
    "crime.info()"
   ]
  },
  {
   "cell_type": "markdown",
   "id": "80c6643b",
   "metadata": {},
   "source": [
    "Dan dari informasi dataset kita akan membuang kolom **Isoa_code** karena kolom ini tidak akan proses untuk analisis"
   ]
  },
  {
   "cell_type": "code",
   "execution_count": 8,
   "id": "d112a07c",
   "metadata": {},
   "outputs": [],
   "source": [
    "crime_clean = crime.iloc[:,1:]"
   ]
  },
  {
   "cell_type": "markdown",
   "id": "ad58652c",
   "metadata": {},
   "source": [
    "### Checking for missing values"
   ]
  },
  {
   "cell_type": "markdown",
   "id": "6d4193cd",
   "metadata": {},
   "source": [
    "Selanjutnya akan kita cek, apakah dataset memiliki **missing values** atau tidak"
   ]
  },
  {
   "cell_type": "code",
   "execution_count": 9,
   "id": "e1d33408",
   "metadata": {
    "scrolled": true
   },
   "outputs": [
    {
     "data": {
      "text/plain": [
       "borough           0\n",
       "major_category    0\n",
       "minor_category    0\n",
       "value             0\n",
       "year              0\n",
       "month             0\n",
       "dtype: int64"
      ]
     },
     "execution_count": 9,
     "metadata": {},
     "output_type": "execute_result"
    }
   ],
   "source": [
    "crime_clean.isna().sum()"
   ]
  },
  {
   "cell_type": "markdown",
   "id": "716965c7",
   "metadata": {},
   "source": [
    "Ternyata dataset tidak memiliki missing values, maka tahapan analisis dapat dilanjutkan"
   ]
  },
  {
   "cell_type": "markdown",
   "id": "536d7abb",
   "metadata": {},
   "source": [
    "## Analysis"
   ]
  },
  {
   "cell_type": "markdown",
   "id": "1d393e2f",
   "metadata": {},
   "source": [
    "### Bagaimana distribusi tingkat kejahatan yang dilaporkan perbulannya?"
   ]
  },
  {
   "cell_type": "markdown",
   "id": "a118a181",
   "metadata": {},
   "source": [
    "Untuk menjawab pertanyaan ini, maka kita akan memvisualisasikan kolom value menggunakan histogram"
   ]
  },
  {
   "cell_type": "code",
   "execution_count": 10,
   "id": "2cbf8e38",
   "metadata": {
    "scrolled": false
   },
   "outputs": [
    {
     "data": {
      "image/png": "[encoded data removed]",
      "text/plain": [
       "<Figure size 576x360 with 1 Axes>"
      ]
     },
     "metadata": {
      "needs_background": "light"
     },
     "output_type": "display_data"
    }
   ],
   "source": [
    "count, bin_edges = np.histogram(crime.value, bins=5)\n",
    "crime_clean['value'].T.plot(kind='hist',\n",
    "             bins=5,\n",
    "             xticks=bin_edges,\n",
    "             figsize=(8,5));\n",
    "plt.title(\"Monthly reported count of categorical crime in given borough\");"
   ]
  },
  {
   "cell_type": "markdown",
   "id": "36335c6d",
   "metadata": {},
   "source": [
    "Berdasarkan histogram diatas, jumlah laporan kejahatan perbulannya berdistribusi pada titik 0 - 62 laporan. "
   ]
  },
  {
   "cell_type": "markdown",
   "id": "54e83adf",
   "metadata": {},
   "source": [
    "### Pada minor category manakah 10 kategori kejahatan yang paling besar?"
   ]
  },
  {
   "cell_type": "code",
   "execution_count": 11,
   "id": "841526f6",
   "metadata": {},
   "outputs": [],
   "source": [
    "minor_crime = crime_clean[['minor_category', 'value']].groupby('minor_category').sum().sort_values(by='value', ascending=False).head(10)"
   ]
  },
  {
   "cell_type": "code",
   "execution_count": 12,
   "id": "b08de252",
   "metadata": {},
   "outputs": [
    {
     "data": {
      "text/html": [
       "<div>\n",
       "<style scoped>\n",
       "    .dataframe tbody tr th:only-of-type {\n",
       "        vertical-align: middle;\n",
       "    }\n",
       "\n",
       "    .dataframe tbody tr th {\n",
       "        vertical-align: top;\n",
       "    }\n",
       "\n",
       "    .dataframe thead th {\n",
       "        text-align: right;\n",
       "    }\n",
       "</style>\n",
       "<table border=\"1\" class=\"dataframe\">\n",
       "  <thead>\n",
       "    <tr style=\"text-align: right;\">\n",
       "      <th></th>\n",
       "      <th>value</th>\n",
       "    </tr>\n",
       "    <tr>\n",
       "      <th>minor_category</th>\n",
       "      <th></th>\n",
       "    </tr>\n",
       "  </thead>\n",
       "  <tbody>\n",
       "    <tr>\n",
       "      <th>Other Theft</th>\n",
       "      <td>980085</td>\n",
       "    </tr>\n",
       "    <tr>\n",
       "      <th>Theft From Motor Vehicle</th>\n",
       "      <td>569956</td>\n",
       "    </tr>\n",
       "    <tr>\n",
       "      <th>Burglary in a Dwelling</th>\n",
       "      <td>491282</td>\n",
       "    </tr>\n",
       "    <tr>\n",
       "      <th>Harassment</th>\n",
       "      <td>458124</td>\n",
       "    </tr>\n",
       "    <tr>\n",
       "      <th>Assault with Injury</th>\n",
       "      <td>451001</td>\n",
       "    </tr>\n",
       "    <tr>\n",
       "      <th>Possession Of Drugs</th>\n",
       "      <td>431948</td>\n",
       "    </tr>\n",
       "    <tr>\n",
       "      <th>Common Assault</th>\n",
       "      <td>413690</td>\n",
       "    </tr>\n",
       "    <tr>\n",
       "      <th>Theft From Shops</th>\n",
       "      <td>345142</td>\n",
       "    </tr>\n",
       "    <tr>\n",
       "      <th>Other Theft Person</th>\n",
       "      <td>308842</td>\n",
       "    </tr>\n",
       "    <tr>\n",
       "      <th>Criminal Damage To Motor Vehicle</th>\n",
       "      <td>265463</td>\n",
       "    </tr>\n",
       "  </tbody>\n",
       "</table>\n",
       "</div>"
      ],
      "text/plain": [
       "                                   value\n",
       "minor_category                          \n",
       "Other Theft                       980085\n",
       "Theft From Motor Vehicle          569956\n",
       "Burglary in a Dwelling            491282\n",
       "Harassment                        458124\n",
       "Assault with Injury               451001\n",
       "Possession Of Drugs               431948\n",
       "Common Assault                    413690\n",
       "Theft From Shops                  345142\n",
       "Other Theft Person                308842\n",
       "Criminal Damage To Motor Vehicle  265463"
      ]
     },
     "execution_count": 12,
     "metadata": {},
     "output_type": "execute_result"
    }
   ],
   "source": [
    "minor_crime"
   ]
  },
  {
   "cell_type": "code",
   "execution_count": 13,
   "id": "a90c46b7",
   "metadata": {
    "scrolled": true
   },
   "outputs": [
    {
     "data": {
      "image/png": "[encoded data removed]",
      "text/plain": [
       "<Figure size 432x288 with 1 Axes>"
      ]
     },
     "metadata": {
      "needs_background": "light"
     },
     "output_type": "display_data"
    }
   ],
   "source": [
    "minor_crime.sort_values(by='value', ascending=True).plot(kind='barh')\n",
    "plt.xlabel('')\n",
    "plt.ylabel(\"\")\n",
    "plt.legend().remove()\n",
    "plt.title('Jumlah laporan kejahatan berdasarkan major category')\n",
    "plt.show()"
   ]
  },
  {
   "cell_type": "markdown",
   "id": "bf4881ae",
   "metadata": {},
   "source": [
    "Dari data dan visualisasi diatas didapatkan bahwa jumlah 3 laporan kejahatan terbanyak terdapat pada kategori **Other Theft**, **Theft From Motor Vehicle** dan **Burglary in a Dwelling**, dan diikuti oleh kategori-kategori lainnya"
   ]
  },
  {
   "cell_type": "markdown",
   "id": "4a8eccdd",
   "metadata": {},
   "source": [
    "### Apakah setiap setiap bertambah bulan meningkatkan nilai value?"
   ]
  },
  {
   "cell_type": "markdown",
   "id": "6389edce",
   "metadata": {},
   "source": [
    "Untuk menjawab pertanyaan ini, kita kan melihat korelasi antara 2 kolom ini"
   ]
  },
  {
   "cell_type": "code",
   "execution_count": 14,
   "id": "3d96df8d",
   "metadata": {
    "scrolled": true
   },
   "outputs": [
    {
     "data": {
      "text/plain": [
       "array([[1.        , 0.00182118],\n",
       "       [0.00182118, 1.        ]])"
      ]
     },
     "execution_count": 14,
     "metadata": {},
     "output_type": "execute_result"
    }
   ],
   "source": [
    "np.corrcoef(crime_clean.month, crime_clean.value)"
   ]
  },
  {
   "cell_type": "markdown",
   "id": "9ad08f01",
   "metadata": {},
   "source": [
    "variabel month dengan value hampir tidak mempunyai korelasi atau mendekati 0, berikut merupakan visualisasi dari data diatas"
   ]
  },
  {
   "cell_type": "code",
   "execution_count": 15,
   "id": "52f0deb8",
   "metadata": {
    "scrolled": true
   },
   "outputs": [
    {
     "data": {
      "image/png": "[encoded data removed]",
      "text/plain": [
       "<Figure size 432x288 with 1 Axes>"
      ]
     },
     "metadata": {
      "needs_background": "light"
     },
     "output_type": "display_data"
    }
   ],
   "source": [
    "x = crime_clean.month\n",
    "y = crime_clean.value\n",
    "slope, intercept, r, p, std_err = stats.linregress(x, y)\n",
    "\n",
    "def myfunc(x):\n",
    "  return slope * x + intercept\n",
    "\n",
    "mymodel = list(map(myfunc, x))\n",
    "\n",
    "plt.scatter(x, y)\n",
    "plt.plot(x, mymodel)\n",
    "\n",
    "plt.title(\"Scatter plot variabel month dan value\")\n",
    "plt.show()"
   ]
  },
  {
   "cell_type": "markdown",
   "id": "3c1ed9b0",
   "metadata": {},
   "source": [
    "Kesimpulan yang dapat diambil adalah bulan tidak mempengaruhi nilai value"
   ]
  },
  {
   "cell_type": "markdown",
   "id": "093d5a47",
   "metadata": {},
   "source": [
    "### Pada major category berapa total proporsi laporan kejahatan yang terjadi pada masing-masing kategori?"
   ]
  },
  {
   "cell_type": "code",
   "execution_count": 16,
   "id": "9acb0139",
   "metadata": {},
   "outputs": [],
   "source": [
    "crime_major = crime_clean[['major_category', 'value']].groupby('major_category').sum().sort_values(by='value', ascending=False)"
   ]
  },
  {
   "cell_type": "code",
   "execution_count": 17,
   "id": "4fcb8293",
   "metadata": {
    "scrolled": true
   },
   "outputs": [
    {
     "data": {
      "text/html": [
       "<div>\n",
       "<style scoped>\n",
       "    .dataframe tbody tr th:only-of-type {\n",
       "        vertical-align: middle;\n",
       "    }\n",
       "\n",
       "    .dataframe tbody tr th {\n",
       "        vertical-align: top;\n",
       "    }\n",
       "\n",
       "    .dataframe thead th {\n",
       "        text-align: right;\n",
       "    }\n",
       "</style>\n",
       "<table border=\"1\" class=\"dataframe\">\n",
       "  <thead>\n",
       "    <tr style=\"text-align: right;\">\n",
       "      <th></th>\n",
       "      <th>value</th>\n",
       "    </tr>\n",
       "    <tr>\n",
       "      <th>major_category</th>\n",
       "      <th></th>\n",
       "    </tr>\n",
       "  </thead>\n",
       "  <tbody>\n",
       "    <tr>\n",
       "      <th>Theft and Handling</th>\n",
       "      <td>2661861</td>\n",
       "    </tr>\n",
       "    <tr>\n",
       "      <th>Violence Against the Person</th>\n",
       "      <td>1558081</td>\n",
       "    </tr>\n",
       "    <tr>\n",
       "      <th>Burglary</th>\n",
       "      <td>754293</td>\n",
       "    </tr>\n",
       "    <tr>\n",
       "      <th>Criminal Damage</th>\n",
       "      <td>630938</td>\n",
       "    </tr>\n",
       "    <tr>\n",
       "      <th>Drugs</th>\n",
       "      <td>470765</td>\n",
       "    </tr>\n",
       "    <tr>\n",
       "      <th>Robbery</th>\n",
       "      <td>258873</td>\n",
       "    </tr>\n",
       "    <tr>\n",
       "      <th>Other Notifiable Offences</th>\n",
       "      <td>106349</td>\n",
       "    </tr>\n",
       "    <tr>\n",
       "      <th>Fraud or Forgery</th>\n",
       "      <td>5325</td>\n",
       "    </tr>\n",
       "    <tr>\n",
       "      <th>Sexual Offences</th>\n",
       "      <td>1273</td>\n",
       "    </tr>\n",
       "  </tbody>\n",
       "</table>\n",
       "</div>"
      ],
      "text/plain": [
       "                               value\n",
       "major_category                      \n",
       "Theft and Handling           2661861\n",
       "Violence Against the Person  1558081\n",
       "Burglary                      754293\n",
       "Criminal Damage               630938\n",
       "Drugs                         470765\n",
       "Robbery                       258873\n",
       "Other Notifiable Offences     106349\n",
       "Fraud or Forgery                5325\n",
       "Sexual Offences                 1273"
      ]
     },
     "execution_count": 17,
     "metadata": {},
     "output_type": "execute_result"
    }
   ],
   "source": [
    "crime_major"
   ]
  },
  {
   "cell_type": "code",
   "execution_count": 85,
   "id": "5c9e7c68",
   "metadata": {},
   "outputs": [
    {
     "data": {
      "image/png": "[encoded data removed]",
      "text/plain": [
       "<Figure size 1440x576 with 1 Axes>"
      ]
     },
     "metadata": {},
     "output_type": "display_data"
    }
   ],
   "source": [
    "explode_list = [0.1,0,0,0,0,0, 0, 0, 0.1]\n",
    "crime_major['value'].plot(kind='pie',\n",
    "                            figsize=(20,8),\n",
    "                            autopct=\"%.1f%%\",\n",
    "                            startangle=90,\n",
    "                            shadow=True,\n",
    "                            labels=None,\n",
    "                            pctdistance=1.15,\n",
    "                            explode=explode_list);\n",
    "\n",
    "plt.legend(labels=crime_major.index);\n",
    "plt.title(\"Tingkat kejahatan berdasarkan major category\", y=1.12);\n",
    "plt.ylabel('');\n",
    "plt.axis('equal');"
   ]
  },
  {
   "cell_type": "markdown",
   "id": "427fd8d5",
   "metadata": {},
   "source": [
    "Dari tabel dan visualisasi diatas dapat ditarik kesimpulan bahwa kategori **Theft and Handling** memiliki persentase total yang paling besar yakni 41.3% diikuti oleh kategori **Violence Against The Person**. Sedangkan untuk proporsi terkecil terdapat pada kategori **Sexual Offences**."
   ]
  },
  {
   "cell_type": "markdown",
   "id": "7d4cfb4a",
   "metadata": {},
   "source": [
    "### 10 Wilayah yang memiliki tingkat kejahatan tertinggi"
   ]
  },
  {
   "cell_type": "code",
   "execution_count": 71,
   "id": "9cbad42b",
   "metadata": {},
   "outputs": [],
   "source": [
    "index = crime_clean[['borough', 'value']].groupby('borough').sum('value').sort_values(by='value', ascending = False).head(10).index"
   ]
  },
  {
   "cell_type": "code",
   "execution_count": 20,
   "id": "3e813b06",
   "metadata": {},
   "outputs": [],
   "source": [
    "crime_borough = crime_clean[['year','borough', 'value']].groupby(['year', 'borough']).sum('value').unstack()"
   ]
  },
  {
   "cell_type": "code",
   "execution_count": 79,
   "id": "879ce470",
   "metadata": {},
   "outputs": [
    {
     "data": {
      "text/html": [
       "<div>\n",
       "<style scoped>\n",
       "    .dataframe tbody tr th:only-of-type {\n",
       "        vertical-align: middle;\n",
       "    }\n",
       "\n",
       "    .dataframe tbody tr th {\n",
       "        vertical-align: top;\n",
       "    }\n",
       "\n",
       "    .dataframe thead tr th {\n",
       "        text-align: left;\n",
       "    }\n",
       "\n",
       "    .dataframe thead tr:last-of-type th {\n",
       "        text-align: right;\n",
       "    }\n",
       "</style>\n",
       "<table border=\"1\" class=\"dataframe\">\n",
       "  <thead>\n",
       "    <tr>\n",
       "      <th></th>\n",
       "      <th colspan=\"21\" halign=\"left\">value</th>\n",
       "    </tr>\n",
       "    <tr>\n",
       "      <th>borough</th>\n",
       "      <th>Barking and Dagenham</th>\n",
       "      <th>Barnet</th>\n",
       "      <th>Bexley</th>\n",
       "      <th>Brent</th>\n",
       "      <th>Bromley</th>\n",
       "      <th>Camden</th>\n",
       "      <th>City of London</th>\n",
       "      <th>Croydon</th>\n",
       "      <th>Ealing</th>\n",
       "      <th>Enfield</th>\n",
       "      <th>...</th>\n",
       "      <th>Merton</th>\n",
       "      <th>Newham</th>\n",
       "      <th>Redbridge</th>\n",
       "      <th>Richmond upon Thames</th>\n",
       "      <th>Southwark</th>\n",
       "      <th>Sutton</th>\n",
       "      <th>Tower Hamlets</th>\n",
       "      <th>Waltham Forest</th>\n",
       "      <th>Wandsworth</th>\n",
       "      <th>Westminster</th>\n",
       "    </tr>\n",
       "    <tr>\n",
       "      <th>year</th>\n",
       "      <th></th>\n",
       "      <th></th>\n",
       "      <th></th>\n",
       "      <th></th>\n",
       "      <th></th>\n",
       "      <th></th>\n",
       "      <th></th>\n",
       "      <th></th>\n",
       "      <th></th>\n",
       "      <th></th>\n",
       "      <th></th>\n",
       "      <th></th>\n",
       "      <th></th>\n",
       "      <th></th>\n",
       "      <th></th>\n",
       "      <th></th>\n",
       "      <th></th>\n",
       "      <th></th>\n",
       "      <th></th>\n",
       "      <th></th>\n",
       "      <th></th>\n",
       "    </tr>\n",
       "  </thead>\n",
       "  <tbody>\n",
       "    <tr>\n",
       "      <th>2008</th>\n",
       "      <td>17656</td>\n",
       "      <td>23944</td>\n",
       "      <td>15305</td>\n",
       "      <td>23504</td>\n",
       "      <td>24015</td>\n",
       "      <td>32010</td>\n",
       "      <td>0</td>\n",
       "      <td>29516</td>\n",
       "      <td>28947</td>\n",
       "      <td>21980</td>\n",
       "      <td>...</td>\n",
       "      <td>13875</td>\n",
       "      <td>29752</td>\n",
       "      <td>20873</td>\n",
       "      <td>11106</td>\n",
       "      <td>33470</td>\n",
       "      <td>12943</td>\n",
       "      <td>23578</td>\n",
       "      <td>24080</td>\n",
       "      <td>23330</td>\n",
       "      <td>47846</td>\n",
       "    </tr>\n",
       "    <tr>\n",
       "      <th>2009</th>\n",
       "      <td>17713</td>\n",
       "      <td>23449</td>\n",
       "      <td>14445</td>\n",
       "      <td>24748</td>\n",
       "      <td>21858</td>\n",
       "      <td>31612</td>\n",
       "      <td>0</td>\n",
       "      <td>29784</td>\n",
       "      <td>28617</td>\n",
       "      <td>21147</td>\n",
       "      <td>...</td>\n",
       "      <td>13561</td>\n",
       "      <td>28610</td>\n",
       "      <td>20837</td>\n",
       "      <td>10618</td>\n",
       "      <td>30623</td>\n",
       "      <td>12240</td>\n",
       "      <td>21959</td>\n",
       "      <td>24761</td>\n",
       "      <td>23021</td>\n",
       "      <td>48456</td>\n",
       "    </tr>\n",
       "    <tr>\n",
       "      <th>2010</th>\n",
       "      <td>17130</td>\n",
       "      <td>23416</td>\n",
       "      <td>13166</td>\n",
       "      <td>25512</td>\n",
       "      <td>19572</td>\n",
       "      <td>31804</td>\n",
       "      <td>0</td>\n",
       "      <td>29373</td>\n",
       "      <td>31360</td>\n",
       "      <td>20808</td>\n",
       "      <td>...</td>\n",
       "      <td>13595</td>\n",
       "      <td>30728</td>\n",
       "      <td>20652</td>\n",
       "      <td>10601</td>\n",
       "      <td>31320</td>\n",
       "      <td>12032</td>\n",
       "      <td>23072</td>\n",
       "      <td>24818</td>\n",
       "      <td>22815</td>\n",
       "      <td>48116</td>\n",
       "    </tr>\n",
       "    <tr>\n",
       "      <th>2011</th>\n",
       "      <td>16686</td>\n",
       "      <td>24007</td>\n",
       "      <td>11325</td>\n",
       "      <td>27669</td>\n",
       "      <td>19868</td>\n",
       "      <td>33956</td>\n",
       "      <td>69</td>\n",
       "      <td>29830</td>\n",
       "      <td>29537</td>\n",
       "      <td>21041</td>\n",
       "      <td>...</td>\n",
       "      <td>13548</td>\n",
       "      <td>27978</td>\n",
       "      <td>21994</td>\n",
       "      <td>10896</td>\n",
       "      <td>30723</td>\n",
       "      <td>11068</td>\n",
       "      <td>24712</td>\n",
       "      <td>23714</td>\n",
       "      <td>21384</td>\n",
       "      <td>54243</td>\n",
       "    </tr>\n",
       "    <tr>\n",
       "      <th>2012</th>\n",
       "      <td>15990</td>\n",
       "      <td>23573</td>\n",
       "      <td>11669</td>\n",
       "      <td>26357</td>\n",
       "      <td>19622</td>\n",
       "      <td>31472</td>\n",
       "      <td>157</td>\n",
       "      <td>30189</td>\n",
       "      <td>28832</td>\n",
       "      <td>21069</td>\n",
       "      <td>...</td>\n",
       "      <td>12856</td>\n",
       "      <td>30067</td>\n",
       "      <td>21424</td>\n",
       "      <td>11168</td>\n",
       "      <td>30737</td>\n",
       "      <td>10948</td>\n",
       "      <td>26784</td>\n",
       "      <td>22647</td>\n",
       "      <td>24457</td>\n",
       "      <td>59226</td>\n",
       "    </tr>\n",
       "    <tr>\n",
       "      <th>2013</th>\n",
       "      <td>15759</td>\n",
       "      <td>22510</td>\n",
       "      <td>11552</td>\n",
       "      <td>23759</td>\n",
       "      <td>18945</td>\n",
       "      <td>28435</td>\n",
       "      <td>110</td>\n",
       "      <td>27444</td>\n",
       "      <td>25917</td>\n",
       "      <td>21574</td>\n",
       "      <td>...</td>\n",
       "      <td>11595</td>\n",
       "      <td>27577</td>\n",
       "      <td>19793</td>\n",
       "      <td>10439</td>\n",
       "      <td>31128</td>\n",
       "      <td>10057</td>\n",
       "      <td>26258</td>\n",
       "      <td>21903</td>\n",
       "      <td>22290</td>\n",
       "      <td>53852</td>\n",
       "    </tr>\n",
       "    <tr>\n",
       "      <th>2014</th>\n",
       "      <td>15426</td>\n",
       "      <td>22572</td>\n",
       "      <td>11844</td>\n",
       "      <td>24426</td>\n",
       "      <td>19668</td>\n",
       "      <td>27198</td>\n",
       "      <td>115</td>\n",
       "      <td>27357</td>\n",
       "      <td>24978</td>\n",
       "      <td>21700</td>\n",
       "      <td>...</td>\n",
       "      <td>11596</td>\n",
       "      <td>28005</td>\n",
       "      <td>19590</td>\n",
       "      <td>10456</td>\n",
       "      <td>28912</td>\n",
       "      <td>10443</td>\n",
       "      <td>25504</td>\n",
       "      <td>20271</td>\n",
       "      <td>21364</td>\n",
       "      <td>47564</td>\n",
       "    </tr>\n",
       "    <tr>\n",
       "      <th>2015</th>\n",
       "      <td>16346</td>\n",
       "      <td>24036</td>\n",
       "      <td>11990</td>\n",
       "      <td>24883</td>\n",
       "      <td>20637</td>\n",
       "      <td>29477</td>\n",
       "      <td>151</td>\n",
       "      <td>28089</td>\n",
       "      <td>26247</td>\n",
       "      <td>22076</td>\n",
       "      <td>...</td>\n",
       "      <td>12273</td>\n",
       "      <td>29217</td>\n",
       "      <td>18897</td>\n",
       "      <td>10413</td>\n",
       "      <td>30260</td>\n",
       "      <td>10598</td>\n",
       "      <td>27493</td>\n",
       "      <td>20969</td>\n",
       "      <td>22401</td>\n",
       "      <td>47395</td>\n",
       "    </tr>\n",
       "    <tr>\n",
       "      <th>2016</th>\n",
       "      <td>16741</td>\n",
       "      <td>24684</td>\n",
       "      <td>12840</td>\n",
       "      <td>26693</td>\n",
       "      <td>20164</td>\n",
       "      <td>29183</td>\n",
       "      <td>178</td>\n",
       "      <td>28712</td>\n",
       "      <td>27127</td>\n",
       "      <td>22485</td>\n",
       "      <td>...</td>\n",
       "      <td>12755</td>\n",
       "      <td>30090</td>\n",
       "      <td>19502</td>\n",
       "      <td>11074</td>\n",
       "      <td>31636</td>\n",
       "      <td>10658</td>\n",
       "      <td>29253</td>\n",
       "      <td>20716</td>\n",
       "      <td>23679</td>\n",
       "      <td>48330</td>\n",
       "    </tr>\n",
       "  </tbody>\n",
       "</table>\n",
       "<p>9 rows × 33 columns</p>\n",
       "</div>"
      ],
      "text/plain": [
       "                       value                                      \\\n",
       "borough Barking and Dagenham Barnet Bexley  Brent Bromley Camden   \n",
       "year                                                               \n",
       "2008                   17656  23944  15305  23504   24015  32010   \n",
       "2009                   17713  23449  14445  24748   21858  31612   \n",
       "2010                   17130  23416  13166  25512   19572  31804   \n",
       "2011                   16686  24007  11325  27669   19868  33956   \n",
       "2012                   15990  23573  11669  26357   19622  31472   \n",
       "2013                   15759  22510  11552  23759   18945  28435   \n",
       "2014                   15426  22572  11844  24426   19668  27198   \n",
       "2015                   16346  24036  11990  24883   20637  29477   \n",
       "2016                   16741  24684  12840  26693   20164  29183   \n",
       "\n",
       "                                               ...                          \\\n",
       "borough City of London Croydon Ealing Enfield  ... Merton Newham Redbridge   \n",
       "year                                           ...                           \n",
       "2008                 0   29516  28947   21980  ...  13875  29752     20873   \n",
       "2009                 0   29784  28617   21147  ...  13561  28610     20837   \n",
       "2010                 0   29373  31360   20808  ...  13595  30728     20652   \n",
       "2011                69   29830  29537   21041  ...  13548  27978     21994   \n",
       "2012               157   30189  28832   21069  ...  12856  30067     21424   \n",
       "2013               110   27444  25917   21574  ...  11595  27577     19793   \n",
       "2014               115   27357  24978   21700  ...  11596  28005     19590   \n",
       "2015               151   28089  26247   22076  ...  12273  29217     18897   \n",
       "2016               178   28712  27127   22485  ...  12755  30090     19502   \n",
       "\n",
       "                                                                            \\\n",
       "borough Richmond upon Thames Southwark Sutton Tower Hamlets Waltham Forest   \n",
       "year                                                                         \n",
       "2008                   11106     33470  12943         23578          24080   \n",
       "2009                   10618     30623  12240         21959          24761   \n",
       "2010                   10601     31320  12032         23072          24818   \n",
       "2011                   10896     30723  11068         24712          23714   \n",
       "2012                   11168     30737  10948         26784          22647   \n",
       "2013                   10439     31128  10057         26258          21903   \n",
       "2014                   10456     28912  10443         25504          20271   \n",
       "2015                   10413     30260  10598         27493          20969   \n",
       "2016                   11074     31636  10658         29253          20716   \n",
       "\n",
       "                                \n",
       "borough Wandsworth Westminster  \n",
       "year                            \n",
       "2008         23330       47846  \n",
       "2009         23021       48456  \n",
       "2010         22815       48116  \n",
       "2011         21384       54243  \n",
       "2012         24457       59226  \n",
       "2013         22290       53852  \n",
       "2014         21364       47564  \n",
       "2015         22401       47395  \n",
       "2016         23679       48330  \n",
       "\n",
       "[9 rows x 33 columns]"
      ]
     },
     "execution_count": 79,
     "metadata": {},
     "output_type": "execute_result"
    }
   ],
   "source": [
    "crime_borough.head(10)"
   ]
  },
  {
   "cell_type": "code",
   "execution_count": 80,
   "id": "2f2cc63e",
   "metadata": {},
   "outputs": [],
   "source": [
    "crime_borough_top10 = crime_borough['value'].loc[:, index]"
   ]
  },
  {
   "cell_type": "code",
   "execution_count": 81,
   "id": "495eab90",
   "metadata": {},
   "outputs": [
    {
     "data": {
      "text/html": [
       "<div>\n",
       "<style scoped>\n",
       "    .dataframe tbody tr th:only-of-type {\n",
       "        vertical-align: middle;\n",
       "    }\n",
       "\n",
       "    .dataframe tbody tr th {\n",
       "        vertical-align: top;\n",
       "    }\n",
       "\n",
       "    .dataframe thead th {\n",
       "        text-align: right;\n",
       "    }\n",
       "</style>\n",
       "<table border=\"1\" class=\"dataframe\">\n",
       "  <thead>\n",
       "    <tr style=\"text-align: right;\">\n",
       "      <th>borough</th>\n",
       "      <th>Westminster</th>\n",
       "      <th>Lambeth</th>\n",
       "      <th>Southwark</th>\n",
       "      <th>Camden</th>\n",
       "      <th>Newham</th>\n",
       "      <th>Croydon</th>\n",
       "      <th>Ealing</th>\n",
       "      <th>Islington</th>\n",
       "      <th>Tower Hamlets</th>\n",
       "      <th>Brent</th>\n",
       "    </tr>\n",
       "    <tr>\n",
       "      <th>year</th>\n",
       "      <th></th>\n",
       "      <th></th>\n",
       "      <th></th>\n",
       "      <th></th>\n",
       "      <th></th>\n",
       "      <th></th>\n",
       "      <th></th>\n",
       "      <th></th>\n",
       "      <th></th>\n",
       "      <th></th>\n",
       "    </tr>\n",
       "  </thead>\n",
       "  <tbody>\n",
       "    <tr>\n",
       "      <th>2008</th>\n",
       "      <td>47846</td>\n",
       "      <td>31717</td>\n",
       "      <td>33470</td>\n",
       "      <td>32010</td>\n",
       "      <td>29752</td>\n",
       "      <td>29516</td>\n",
       "      <td>28947</td>\n",
       "      <td>26273</td>\n",
       "      <td>23578</td>\n",
       "      <td>23504</td>\n",
       "    </tr>\n",
       "    <tr>\n",
       "      <th>2009</th>\n",
       "      <td>48456</td>\n",
       "      <td>31225</td>\n",
       "      <td>30623</td>\n",
       "      <td>31612</td>\n",
       "      <td>28610</td>\n",
       "      <td>29784</td>\n",
       "      <td>28617</td>\n",
       "      <td>25485</td>\n",
       "      <td>21959</td>\n",
       "      <td>24748</td>\n",
       "    </tr>\n",
       "    <tr>\n",
       "      <th>2010</th>\n",
       "      <td>48116</td>\n",
       "      <td>31671</td>\n",
       "      <td>31320</td>\n",
       "      <td>31804</td>\n",
       "      <td>30728</td>\n",
       "      <td>29373</td>\n",
       "      <td>31360</td>\n",
       "      <td>24693</td>\n",
       "      <td>23072</td>\n",
       "      <td>25512</td>\n",
       "    </tr>\n",
       "    <tr>\n",
       "      <th>2011</th>\n",
       "      <td>54243</td>\n",
       "      <td>33224</td>\n",
       "      <td>30723</td>\n",
       "      <td>33956</td>\n",
       "      <td>27978</td>\n",
       "      <td>29830</td>\n",
       "      <td>29537</td>\n",
       "      <td>24980</td>\n",
       "      <td>24712</td>\n",
       "      <td>27669</td>\n",
       "    </tr>\n",
       "    <tr>\n",
       "      <th>2012</th>\n",
       "      <td>59226</td>\n",
       "      <td>33473</td>\n",
       "      <td>30737</td>\n",
       "      <td>31472</td>\n",
       "      <td>30067</td>\n",
       "      <td>30189</td>\n",
       "      <td>28832</td>\n",
       "      <td>26268</td>\n",
       "      <td>26784</td>\n",
       "      <td>26357</td>\n",
       "    </tr>\n",
       "    <tr>\n",
       "      <th>2013</th>\n",
       "      <td>53852</td>\n",
       "      <td>31868</td>\n",
       "      <td>31128</td>\n",
       "      <td>28435</td>\n",
       "      <td>27577</td>\n",
       "      <td>27444</td>\n",
       "      <td>25917</td>\n",
       "      <td>23784</td>\n",
       "      <td>26258</td>\n",
       "      <td>23759</td>\n",
       "    </tr>\n",
       "    <tr>\n",
       "      <th>2014</th>\n",
       "      <td>47564</td>\n",
       "      <td>31765</td>\n",
       "      <td>28912</td>\n",
       "      <td>27198</td>\n",
       "      <td>28005</td>\n",
       "      <td>27357</td>\n",
       "      <td>24978</td>\n",
       "      <td>24679</td>\n",
       "      <td>25504</td>\n",
       "      <td>24426</td>\n",
       "    </tr>\n",
       "    <tr>\n",
       "      <th>2015</th>\n",
       "      <td>47395</td>\n",
       "      <td>33164</td>\n",
       "      <td>30260</td>\n",
       "      <td>29477</td>\n",
       "      <td>29217</td>\n",
       "      <td>28089</td>\n",
       "      <td>26247</td>\n",
       "      <td>27032</td>\n",
       "      <td>27493</td>\n",
       "      <td>24883</td>\n",
       "    </tr>\n",
       "    <tr>\n",
       "      <th>2016</th>\n",
       "      <td>48330</td>\n",
       "      <td>34071</td>\n",
       "      <td>31636</td>\n",
       "      <td>29183</td>\n",
       "      <td>30090</td>\n",
       "      <td>28712</td>\n",
       "      <td>27127</td>\n",
       "      <td>27092</td>\n",
       "      <td>29253</td>\n",
       "      <td>26693</td>\n",
       "    </tr>\n",
       "  </tbody>\n",
       "</table>\n",
       "</div>"
      ],
      "text/plain": [
       "borough  Westminster  Lambeth  Southwark  Camden  Newham  Croydon  Ealing  \\\n",
       "year                                                                        \n",
       "2008           47846    31717      33470   32010   29752    29516   28947   \n",
       "2009           48456    31225      30623   31612   28610    29784   28617   \n",
       "2010           48116    31671      31320   31804   30728    29373   31360   \n",
       "2011           54243    33224      30723   33956   27978    29830   29537   \n",
       "2012           59226    33473      30737   31472   30067    30189   28832   \n",
       "2013           53852    31868      31128   28435   27577    27444   25917   \n",
       "2014           47564    31765      28912   27198   28005    27357   24978   \n",
       "2015           47395    33164      30260   29477   29217    28089   26247   \n",
       "2016           48330    34071      31636   29183   30090    28712   27127   \n",
       "\n",
       "borough  Islington  Tower Hamlets  Brent  \n",
       "year                                      \n",
       "2008         26273          23578  23504  \n",
       "2009         25485          21959  24748  \n",
       "2010         24693          23072  25512  \n",
       "2011         24980          24712  27669  \n",
       "2012         26268          26784  26357  \n",
       "2013         23784          26258  23759  \n",
       "2014         24679          25504  24426  \n",
       "2015         27032          27493  24883  \n",
       "2016         27092          29253  26693  "
      ]
     },
     "execution_count": 81,
     "metadata": {},
     "output_type": "execute_result"
    }
   ],
   "source": [
    "crime_borough_top10"
   ]
  },
  {
   "cell_type": "code",
   "execution_count": 86,
   "id": "ed6994a5",
   "metadata": {
    "scrolled": true
   },
   "outputs": [
    {
     "data": {
      "image/png": "[encoded data removed]",
      "text/plain": [
       "<Figure size 1080x576 with 1 Axes>"
      ]
     },
     "metadata": {
      "needs_background": "light"
     },
     "output_type": "display_data"
    }
   ],
   "source": [
    "crime_borough_top10.plot(kind='area',\n",
    "             stacked=False,\n",
    "             figsize=(15, 8));\n",
    "plt.legend(bbox_to_anchor = (1.05, 1))\n",
    "plt.title(\"Tingkat kejahatan berdasarkan daerah\", y=1.12);"
   ]
  },
  {
   "cell_type": "markdown",
   "id": "4a2e469a",
   "metadata": {},
   "source": [
    "Dari tabel dan visualisasi diatas, bahwa wilayah yang memiliki total kejahatan paling tinggi adalah wilayah **Westminster**, **Lambeth**, **Southwark**, **Camden**, **Newham**, **Croydon**, **Ealing**, **Islington**, **Tower Hamlets** dan **Brent**"
   ]
  },
  {
   "cell_type": "markdown",
   "id": "c390fe49",
   "metadata": {},
   "source": [
    "### Dari 10 wilayah dengan total kejahatan terbanyak, bagaimana pergerakannya pertahun?"
   ]
  },
  {
   "cell_type": "markdown",
   "id": "0702d8d2",
   "metadata": {},
   "source": [
    "Untuk data 10 wilayah dengan kejahatan terbanyak, kita akan menggunakan kembali data yang ada yakni crime_borough_top10"
   ]
  },
  {
   "cell_type": "code",
   "execution_count": 91,
   "id": "ca574c5a",
   "metadata": {
    "scrolled": false
   },
   "outputs": [
    {
     "data": {
      "image/png": "[encoded data removed]",
      "text/plain": [
       "<Figure size 720x576 with 1 Axes>"
      ]
     },
     "metadata": {
      "needs_background": "light"
     },
     "output_type": "display_data"
    }
   ],
   "source": [
    "crime_borough_top10.plot(figsize=(10, 8));\n",
    "plt.legend(bbox_to_anchor = (1.05, 1));"
   ]
  },
  {
   "cell_type": "markdown",
   "id": "f5157f80",
   "metadata": {},
   "source": [
    "Dari plot diatas, dapat kita lihat bahwa wilayah Westimnster memiliki pergerakan yang cukup signifikan dibandingkan wilayah-wilayah lainnya. pada tahun 2010 hingga 2012, tingkat kejahatan terus menerus meningkat hingga dapat turun kembali pada tahun 2012 dan pada tahun 2014 kembali landai."
   ]
  },
  {
   "cell_type": "markdown",
   "id": "8a91ba2f",
   "metadata": {},
   "source": [
    "### Dari 10 wilayah dengan total kejahatan terbanyak,  bagaimana distribusinya?"
   ]
  },
  {
   "cell_type": "code",
   "execution_count": 101,
   "id": "074430fd",
   "metadata": {
    "scrolled": true
   },
   "outputs": [
    {
     "data": {
      "image/png": "[encoded data removed]",
      "text/plain": [
       "<Figure size 576x360 with 1 Axes>"
      ]
     },
     "metadata": {
      "needs_background": "light"
     },
     "output_type": "display_data"
    }
   ],
   "source": [
    "scatter_top10 = crime_borough_top10.plot(kind='box', vert=False,figsize=(8, 5))"
   ]
  },
  {
   "cell_type": "markdown",
   "id": "c5f4ede2",
   "metadata": {},
   "source": [
    "Insights : \n",
    "- pada scatter plot wilayah **Tower Hamlets**, **Islington** menunjukkan data cukup berdistribusi normal. Sedangkan data yang lainnya menunjukkan kurang terdistribusi normal.\n",
    "- pada wilayah Southwark tingkat pelaporan kejahatannya terdapat kondisi dimana ada nilai yang tidak biasa dari data-data sebelumnya (ada outlier), terlihat bahwa terdapat peningkatan pelaporan kejahatan yang sangat tinggi dari persebaranya begitupun terdapat juga keadaan dimana ada konidisi pelaporan kejahatan turun drastis "
   ]
  },
  {
   "cell_type": "markdown",
   "id": "01833f55",
   "metadata": {},
   "source": [
    "## Conclusion"
   ]
  },
  {
   "cell_type": "markdown",
   "id": "fada9779",
   "metadata": {},
   "source": [
    "- jumlah laporan kejahatan perbulannya berdistribusi pada titik 0 - 62 laporan\n",
    "- jumlah 3 laporan kejahatan terbanyak terdapat pada kategori Other Theft, Theft From Motor Vehicle dan Burglary in a Dwelling\n",
    "- bulan tidak mempengaruhi nilai value\n",
    "- kategori Theft and Handling memiliki persentase total yang paling besar yakni 41.3% diikuti oleh kategori Violence Against The Person. Sedangkan untuk proporsi terkecil terdapat pada kategori Sexual Offences.\n",
    "- wilayah yang memiliki total kejahatan paling tinggi adalah wilayah Westminster, Lambeth, Southwark, Camden, Newham, Croydon, Ealing, Islington, Tower Hamlets dan Brent\n",
    "- wilayah Westimnster memiliki pergerakan yang cukup signifikan dibandingkan wilayah-wilayah lainnya. pada tahun 2010 hingga 2012, tingkat kejahatan terus menerus meningkat hingga dapat turun kembali pada tahun 2012 dan pada tahun 2014 kembali landai\n",
    "- pada scatter plot wilayah **Tower Hamlets**, **Islington** menunjukkan data cukup berdistribusi normal. Sedangkan data yang lainnya menunjukkan kurang terdistribusi normal.\n",
    "- pada wilayah Southwark tingkat pelaporan kejahatannya terdapat kondisi dimana ada nilai yang tidak biasa dari data-data sebelumnya (ada outlier), terlihat bahwa terdapat peningkatan pelaporan kejahatan yang sangat tinggi dari persebaranya begitupun terdapat juga keadaan dimana ada konidisi pelaporan kejahatan turun drastis "
   ]
  }
 ],
 "metadata": {
  "kernelspec": {
   "display_name": "Python 3 (ipykernel)",
   "language": "python",
   "name": "python3"
  },
  "language_info": {
   "codemirror_mode": {
    "name": "ipython",
    "version": 3
   },
   "file_extension": ".py",
   "mimetype": "text/x-python",
   "name": "python",
   "nbconvert_exporter": "python",
   "pygments_lexer": "ipython3",
   "version": "3.9.7"
  }
 },
 "nbformat": 4,
 "nbformat_minor": 5
}
